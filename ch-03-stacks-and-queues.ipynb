{
 "cells": [
  {
   "cell_type": "code",
   "execution_count": 14,
   "metadata": {},
   "outputs": [
    {
     "name": "stdout",
     "output_type": "stream",
     "text": [
      "[0, 0, 0, 0, 0, 0]\n",
      "True\n",
      "[2, 22, 3, 0, 0, 0]\n",
      "3\n",
      "[2, 22, 3, 0, 0, 0]\n",
      "False\n",
      "[2, 22, 3, 2, 0, 0]\n",
      "2\n",
      "2\n",
      "3\n",
      "[2, 22, 3, 3, 222, 0]\n"
     ]
    }
   ],
   "source": [
    "class MultiStack:\n",
    "\n",
    "    def __init__(self, stacksize):\n",
    "        self.numstacks = 3\n",
    "        self.array = [0] * (stacksize * self.numstacks)\n",
    "        self.sizes = [0] * self.numstacks\n",
    "        self.stacksize = stacksize\n",
    "\n",
    "    def Push(self, item, stacknum):\n",
    "        if self.IsFull(stacknum):\n",
    "            raise Exception('Stack is full')\n",
    "        self.sizes[stacknum] += 1\n",
    "        self.array[self.IndexOfTop(stacknum)] = item\n",
    "\n",
    "    def Pop(self, stacknum):\n",
    "        if self.IsEmpty(stacknum):\n",
    "            raise Exception('Stack is empty')\n",
    "        value = self.array[self.IndexOfTop(stacknum)]\n",
    "        self.array[self.IndexOfTop(stacknum)] = 0\n",
    "        self.sizes[stacknum] -= 1\n",
    "        return value\n",
    "\n",
    "    def Peek(self, stacknum):\n",
    "        if self.IsEmpty(stacknum):\n",
    "            raise Exception('Stack is empty')\n",
    "        return self.array[self.IndexOfTop(stacknum)]\n",
    "\n",
    "    def IsEmpty(self, stacknum):\n",
    "        return self.sizes[stacknum] == 0\n",
    "\n",
    "    def IsFull(self, stacknum):\n",
    "        return self.sizes[stacknum] == self.stacksize\n",
    "\n",
    "    def IndexOfTop(self, stacknum):\n",
    "        offset = stacknum * self.stacksize\n",
    "        return offset + self.sizes[stacknum] - 1\n",
    "\n",
    "\n",
    "def ThreeInOne():\n",
    "    newstack = MultiStack(2)\n",
    "    print(newstack.array)\n",
    "    print(newstack.IsEmpty(1))\n",
    "    newstack.Push(3, 1)\n",
    "    newstack.Push(2, 0)\n",
    "    newstack.Push(22, 0)\n",
    "    print(newstack.array)\n",
    "    print(newstack.Peek(1))\n",
    "    print(newstack.array)\n",
    "    print(newstack.IsEmpty(1))\n",
    "    newstack.Push(2, 1)\n",
    "    print(newstack.array)\n",
    "    print(newstack.Peek(1))\n",
    "    print(newstack.Pop(1))\n",
    "    print(newstack.Peek(1))\n",
    "    newstack.Push(3, 1)\n",
    "    newstack.Push(222, 2)\n",
    "    print(newstack.array)\n",
    "\n",
    "ThreeInOne()"
   ]
  },
  {
   "cell_type": "code",
   "execution_count": null,
   "metadata": {},
   "outputs": [],
   "source": []
  }
 ],
 "metadata": {
  "kernelspec": {
   "display_name": "Python 3",
   "language": "python",
   "name": "python3"
  },
  "language_info": {
   "codemirror_mode": {
    "name": "ipython",
    "version": 3
   },
   "file_extension": ".py",
   "mimetype": "text/x-python",
   "name": "python",
   "nbconvert_exporter": "python",
   "pygments_lexer": "ipython3",
   "version": "3.6.4"
  }
 },
 "nbformat": 4,
 "nbformat_minor": 2
}
