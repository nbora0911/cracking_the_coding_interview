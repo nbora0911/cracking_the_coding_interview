{
 "cells": [
  {
   "cell_type": "markdown",
   "metadata": {},
   "source": [
    "Q1. Implement an algorithm to determine if a string has all unique characters. What if you cannot use additional data structures"
   ]
  },
  {
   "cell_type": "code",
   "execution_count": 18,
   "metadata": {},
   "outputs": [],
   "source": [
    "def contains_unique_chars(string):\n",
    "    unique_chars = [string[0]]\n",
    "    print(unique_chars)\n",
    "    for x in string[1:]:\n",
    "        print('x',x)\n",
    "        for y in unique_chars:\n",
    "            print('y',y)\n",
    "            if x==y:\n",
    "                return \"Does not contain unique characters\"\n",
    "        unique_chars.append(x)\n",
    "    return f\"{string} contains unique characters\"\n",
    "\n",
    "# Complexity O(n**2)"
   ]
  },
  {
   "cell_type": "markdown",
   "metadata": {},
   "source": [
    "Q2. Determine whether or not one string is a permutation of another."
   ]
  },
  {
   "cell_type": "code",
   "execution_count": 47,
   "metadata": {},
   "outputs": [],
   "source": [
    "def is_permutation(string1, string2):\n",
    "    if len(string1) != len(string2):\n",
    "        return \"Strings are of different lengths, so definitely not a permutation\"\n",
    "    else:\n",
    "        for x, y in zip(string1, string2):\n",
    "            if not x in string2:\n",
    "                return f\"{x} not in {string2}\"\n",
    "            if not y in string1:\n",
    "                return f\"{y} not in {string1}\"\n",
    "        return True\n",
    "            \n",
    "# complexity O(n**2)\n",
    "\n",
    "def is_permutation_v2(string1, string2):\n",
    "    if len(string1) != len(string2):\n",
    "        return \"Strings are of different lengths, so definitely not a permutation\"\n",
    "    \n",
    "    else:\n",
    "        counter = Counter()\n",
    "        for letter in string1:\n",
    "            counter[letter] += 1\n",
    "        \n",
    "        for letter in string2:\n",
    "            if counter[letter] == 0:\n",
    "                return f\"{letter} not in {string1}\"\n",
    "            counter[letter] -= 1\n",
    "            \n",
    "        return f\"{string1} and {string2} are permutations of each other\"\n",
    "# complexity O(n)"
   ]
  },
  {
   "cell_type": "markdown",
   "metadata": {},
   "source": [
    "Q3. Replace spaces in the middle of a string with \"%20\" assuming the end of the string contains twice as many spaces as are in the middle."
   ]
  },
  {
   "cell_type": "code",
   "execution_count": 91,
   "metadata": {},
   "outputs": [],
   "source": []
  },
  {
   "cell_type": "code",
   "execution_count": 110,
   "metadata": {},
   "outputs": [],
   "source": [
    "eg = \"this is such a easy problem or is it me who is doing it in a complicated way\"\n",
    "\n",
    "def urlify(string):\n",
    "    string1 = ''\n",
    "    num_space = len(string.split(\" \")) -1\n",
    "    for word in string.split(\" \"):\n",
    "#         print(word)\n",
    "        string1 += word + \"%20\"\n",
    "    \n",
    "    for n in range(2*num_space -1):\n",
    "        string1 += \"%20\"\n",
    "    \n",
    "    return string1\n",
    "\n",
    "def urlify_v2(string):\n",
    "    string_list = string.split(\" \")\n",
    "    return  \"%20\".join(string_list)\n",
    "\n",
    "# fastest\n",
    "def escape_spaces_1(string):\n",
    "    return string.strip().replace(\" \", \"%20\")"
   ]
  },
  {
   "cell_type": "markdown",
   "metadata": {},
   "source": [
    "Q4. Determine whether or not a string is a permutation of a palindrome, ignoring spaces."
   ]
  },
  {
   "cell_type": "code",
   "execution_count": 193,
   "metadata": {},
   "outputs": [],
   "source": [
    "def is_palindrome(string):\n",
    "    string = string.strip().replace(\" \",\"\").lower()\n",
    "#     print(\"string = \", string, \"length\", len(string))\n",
    "    counter = Counter()\n",
    "    for letter in string:\n",
    "        counter[letter] += 1\n",
    "    \n",
    "#     print(\"counter\", counter)\n",
    "    \n",
    "    if len(string)%2 == 0:\n",
    "#         print(f\"{string} contains even number of characters\")\n",
    "        for letter, freq in counter.items():\n",
    "            if freq %2 !=0:\n",
    "                return False\n",
    "    else:\n",
    "#         print(f\"{string} contains odd number of characters\")\n",
    "        num_counter_one = 0\n",
    "        for letter, freq in counter.items():\n",
    "            if freq %2 ==1:\n",
    "                num_counter_one += 1\n",
    "            if num_counter_one > 1:\n",
    "                return False\n",
    "    return True\n",
    "\n",
    "\n",
    "def is_palindrome_permutation(string):\n",
    "    counter = Counter()\n",
    "    for letter in string.replace(\" \", \"\"):\n",
    "        counter[letter] += 1\n",
    "    #return sum([count % 2 for count in counter.values()]) < 2\n",
    "    odd_counts = 0\n",
    "    for count in counter.values():\n",
    "        odd_counts += count % 2\n",
    "    if odd_counts > 1:\n",
    "        return False\n",
    "    return True"
   ]
  },
  {
   "cell_type": "markdown",
   "metadata": {},
   "source": [
    "Q5. Determine whether the edit distance between two strings is less than 2."
   ]
  },
  {
   "cell_type": "code",
   "execution_count": 209,
   "metadata": {},
   "outputs": [],
   "source": [
    "def edit_distance_one(string1, string2):\n",
    "    if abs(len(string1) - len(string2)) >1:\n",
    "        return False\n",
    "    elif abs(len(string1) - len(string2)) ==0:\n",
    "        difference_count = 0\n",
    "        for i in range(len(string1)):\n",
    "            if string1[i] != string2[i]:\n",
    "                difference_count += 1\n",
    "                if difference_count >1:\n",
    "                    return False\n",
    "    else:\n",
    "        if len(string1) > len(string2):\n",
    "            longer , shorter = string1, string2\n",
    "        else:\n",
    "            longer , shorter = string2, string1\n",
    "        \n",
    "        shift = 0\n",
    "        k = 0\n",
    "        while k < len(shorter):\n",
    "            if shorter[k] != longer[k + shift]:\n",
    "                shift += 1\n",
    "                if shift >1:\n",
    "                    return False\n",
    "            else:\n",
    "                k += 1\n",
    "                \n",
    "    return True\n",
    "\n",
    "# improvement - make it modular/ add smaller functions for each case if/else\n",
    "# O(N)"
   ]
  },
  {
   "cell_type": "code",
   "execution_count": 212,
   "metadata": {},
   "outputs": [
    {
     "name": "stdout",
     "output_type": "stream",
     "text": [
      "1.62 µs ± 38.2 ns per loop (mean ± std. dev. of 7 runs, 1000000 loops each)\n"
     ]
    }
   ],
   "source": [
    "%%timeit\n",
    "edit_distance_one('asdfghjklkjhgfds', 'asdfghjklkjhgsfd')"
   ]
  },
  {
   "cell_type": "markdown",
   "metadata": {},
   "source": [
    "Q6. Compress a string made up of letters by replacing each substring containing a single type of letter by that letter followed by the count if the result is shorter than the original.\n"
   ]
  },
  {
   "cell_type": "code",
   "execution_count": 230,
   "metadata": {},
   "outputs": [],
   "source": [
    "def string_compression(string):\n",
    "    letters = [string[0]]\n",
    "    frequency = [1]\n",
    "    k = 0\n",
    "    for i in range(len(string)-1):\n",
    "        if string[i+1]==string[i]:\n",
    "            frequency[k] += 1\n",
    "        else:\n",
    "            k +=1\n",
    "            letters.append(string[i+1])\n",
    "            frequency.append(1)\n",
    "        \n",
    "    compressed_string = ''\n",
    "    for l,v in zip(letters, frequency):\n",
    "        compressed_string += l + str(v)\n",
    "    \n",
    "    if len(compressed_string) >= len(string):\n",
    "        return string\n",
    "    else:\n",
    "        return compressed_string\n",
    "    \n",
    "# improve on string concatenation\n",
    "# improve on space complexity - you can manage with a single list\n",
    "\n",
    "def string_compression_v2(string):\n",
    "    parts = []\n",
    "    current_letter = string[0]\n",
    "    count = 1\n",
    "    \n",
    "    for letter in string[1:]:\n",
    "        if current_letter == letter:\n",
    "            count += 1\n",
    "        else:\n",
    "            parts.append(current_letter + str(count))\n",
    "            current_letter = letter\n",
    "            count = 1\n",
    "    \n",
    "    compressed_string = ''.join(parts)\n",
    "    return min(string, compressed_string, key=len)\n",
    "\n",
    "%%timeit\n",
    "string_compression_v2('aaaaaaaffffffmnbkggtsggggggkrrdfgfgsseerrggggggg')\n",
    "# 8.07 µs ± 107 ns per loop (mean ± std. dev. of 7 runs, 100000 loops each)\n",
    "%%timeit\n",
    "string_compression('aaaaaaaffffffmnbkggtsggggggkrrdfgfgsseerrggggggg')\n",
    "# 15.1 µs ± 256 ns per loop (mean ± std. dev. of 7 runs, 100000 loops each)\n",
    "\n",
    "# What does join() use under the hood?"
   ]
  },
  {
   "cell_type": "markdown",
   "metadata": {},
   "source": [
    "Q6. Rotate a square matrix by 90 degrees counter-clockwise about its center."
   ]
  },
  {
   "cell_type": "code",
   "execution_count": 243,
   "metadata": {},
   "outputs": [],
   "source": [
    "def rotate_matrix_counter90(square_matrix):\n",
    "    n = len(square_matrix)\n",
    "    # check if the matrix is empty\n",
    "    if n == 0:\n",
    "        return square_matrix\n",
    "    \n",
    "    # check if it is square matrix\n",
    "    for l in square_matrix:\n",
    "        if len(l) != n :\n",
    "            return False\n",
    "    \n",
    "    rotated_matrix = []\n",
    "    for row in reversed(range(n)):\n",
    "        temp = []\n",
    "        for column in range(n):\n",
    "            temp.append(square_matrix[column][row])\n",
    "        rotated_matrix.append(temp)\n",
    "            \n",
    "    return rotated_matrix\n",
    "\n",
    "# O(NxN)\n",
    "# how to do inplace?"
   ]
  },
  {
   "cell_type": "markdown",
   "metadata": {},
   "source": [
    "Q7. Given a matrix, zero out every row and column that contains a zero."
   ]
  },
  {
   "cell_type": "code",
   "execution_count": 340,
   "metadata": {},
   "outputs": [],
   "source": [
    "def zero_matrix(matrix):\n",
    "    nrows = len(matrix)\n",
    "    ncolumns = len(matrix[0])\n",
    "    zero_rows = []\n",
    "    zero_cols = []\n",
    "    zero_matrix = matrix.copy()\n",
    "    \n",
    "    for row in range(nrows):\n",
    "        for column in range(ncolumns):\n",
    "            if matrix[row][column] == 0:\n",
    "                zero_rows.append(row)\n",
    "                zero_cols.append(column)\n",
    "                \n",
    "    for r in zero_rows:\n",
    "        for column in range(ncolumns):\n",
    "            zero_matrix[r][column] = 0\n",
    "\n",
    "    for c in zero_cols:\n",
    "        for row in range(nrows):\n",
    "            zero_matrix[row][c] = 0\n",
    "            \n",
    "    return zero_matrix\n",
    "\n",
    "# complexity O(MxN)"
   ]
  },
  {
   "cell_type": "markdown",
   "metadata": {},
   "source": [
    "Q8. Determine whether or not a given string is a rotation of another string.\n"
   ]
  },
  {
   "cell_type": "code",
   "execution_count": 376,
   "metadata": {},
   "outputs": [],
   "source": [
    "def is_rotation(string1, string2):\n",
    "    l= len(string1)\n",
    "    \n",
    "    if len(string1) != len(string2):\n",
    "        return False\n",
    "    \n",
    "    for shift in range(l):\n",
    "        counter = 0\n",
    "        for i in range(l):\n",
    "            j = (i+shift)% l\n",
    "            if string1[i] == string2[j]:\n",
    "                counter += 1\n",
    "        if counter == l:\n",
    "#             print(counter, shift)\n",
    "            return True\n",
    "        \n",
    "    return False\n",
    "\n",
    "# complexity (NxN)\n",
    "\n",
    "def is_substring(parent_string, sub_string):\n",
    "    return parent_string.find(sub_string) != -1\n",
    "\n",
    "def is_rotation_v2(string1, string2):\n",
    "    \n",
    "    if len(string1) != len(string2):\n",
    "        return False\n",
    "    \n",
    "    s = ''.join([string1, string1])\n",
    "    \n",
    "    return is_substring(s, string2)\n",
    "\n",
    "%%timeit\n",
    "is_rotation_v2(s1,s2)\n",
    "# 530 ns ± 12.7 ns per loop (mean ± std. dev. of 7 runs, 1000000 loops each)\n",
    "\n",
    "%%timeit\n",
    "is_rotation(s1,s2)\n",
    "# 4.76 µs ± 148 ns per loop (mean ± std. dev. of 7 runs, 100000 loops each)\n"
   ]
  },
  {
   "cell_type": "code",
   "execution_count": 360,
   "metadata": {},
   "outputs": [],
   "source": []
  },
  {
   "cell_type": "code",
   "execution_count": 364,
   "metadata": {},
   "outputs": [
    {
     "data": {
      "text/plain": [
       "5"
      ]
     },
     "execution_count": 364,
     "metadata": {},
     "output_type": "execute_result"
    }
   ],
   "source": []
  },
  {
   "cell_type": "code",
   "execution_count": 373,
   "metadata": {},
   "outputs": [
    {
     "name": "stdout",
     "output_type": "stream",
     "text": [
      "530 ns ± 12.7 ns per loop (mean ± std. dev. of 7 runs, 1000000 loops each)\n"
     ]
    }
   ],
   "source": []
  },
  {
   "cell_type": "code",
   "execution_count": 377,
   "metadata": {},
   "outputs": [
    {
     "name": "stdout",
     "output_type": "stream",
     "text": [
      "4.76 µs ± 148 ns per loop (mean ± std. dev. of 7 runs, 100000 loops each)\n"
     ]
    }
   ],
   "source": [
    "%%timeit\n",
    "is_rotation(s1,s2)"
   ]
  },
  {
   "cell_type": "code",
   "execution_count": null,
   "metadata": {},
   "outputs": [],
   "source": []
  }
 ],
 "metadata": {
  "kernelspec": {
   "display_name": "Python 3",
   "language": "python",
   "name": "python3"
  },
  "language_info": {
   "codemirror_mode": {
    "name": "ipython",
    "version": 3
   },
   "file_extension": ".py",
   "mimetype": "text/x-python",
   "name": "python",
   "nbconvert_exporter": "python",
   "pygments_lexer": "ipython3",
   "version": "3.6.4"
  }
 },
 "nbformat": 4,
 "nbformat_minor": 2
}
