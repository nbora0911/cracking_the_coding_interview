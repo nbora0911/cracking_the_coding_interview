{
 "cells": [
  {
   "cell_type": "code",
   "execution_count": 1,
   "metadata": {},
   "outputs": [],
   "source": [
    "from sklearn import datasets"
   ]
  },
  {
   "cell_type": "code",
   "execution_count": 2,
   "metadata": {},
   "outputs": [],
   "source": [
    "iris = datasets.load_iris()"
   ]
  },
  {
   "cell_type": "code",
   "execution_count": 27,
   "metadata": {},
   "outputs": [],
   "source": [
    "def euclidean_distance(vec1, vec2):\n",
    "    distance = 0.0\n",
    "    assert len(vec1) == len(vec2), \"Vector length mismatch\"\n",
    "    for v1, v2 in zip(vec1, vec2):\n",
    "        distance += (v1 - v2)**2\n",
    "    return distance\n",
    "\n",
    "\n",
    "def get_neighbours(train, label, test_row, num_neighbours):\n",
    "    distances = []\n",
    "    for train_row, label_row in zip(train, label):\n",
    "        dist = euclidean_distance(test_row, train_row)\n",
    "        distances.append((train_row, dist, label_row))\n",
    "    distances.sort(key=lambda tup:tup[1])\n",
    "    neigbhors = list()\n",
    "    for i in range(num_neighbours):\n",
    "        neigbhors.append((distances[i][0], distances[i][-1]))\n",
    "    return neigbhors    \n",
    "\n",
    "def predict_classification(train, label, test_row, num_neigbours):\n",
    "    neighbors = get_neighbours(train,\n",
    "                               label,\n",
    "                               test_row,\n",
    "                               num_neigbours\n",
    "                              )\n",
    "    \n",
    "    output_values = [row[-1] for row in neighbors]\n",
    "    prediction = max(set(output_values), key=output_values.count)\n",
    "    return prediction\n",
    "    \n",
    "\n"
   ]
  },
  {
   "cell_type": "code",
   "execution_count": 28,
   "metadata": {},
   "outputs": [],
   "source": [
    "dataset = iris[\"data\"]\n",
    "labels = iris['target']"
   ]
  },
  {
   "cell_type": "code",
   "execution_count": 35,
   "metadata": {},
   "outputs": [
    {
     "name": "stdout",
     "output_type": "stream",
     "text": [
      "Expected 2, Got 2.\n"
     ]
    }
   ],
   "source": [
    "idx = 100\n",
    "prediction = predict_classification(dataset, labels, dataset[idx], 3)\n",
    "print('Expected %d, Got %d.' % (dataset[idx][-1], prediction))"
   ]
  },
  {
   "cell_type": "code",
   "execution_count": null,
   "metadata": {},
   "outputs": [],
   "source": [
    "# https://machinelearningmastery.com/tutorial-to-implement-k-nearest-neighbors-in-python-from-scratch/"
   ]
  }
 ],
 "metadata": {
  "kernelspec": {
   "display_name": "Python 3",
   "language": "python",
   "name": "python3"
  },
  "language_info": {
   "codemirror_mode": {
    "name": "ipython",
    "version": 3
   },
   "file_extension": ".py",
   "mimetype": "text/x-python",
   "name": "python",
   "nbconvert_exporter": "python",
   "pygments_lexer": "ipython3",
   "version": "3.8.5"
  }
 },
 "nbformat": 4,
 "nbformat_minor": 4
}
