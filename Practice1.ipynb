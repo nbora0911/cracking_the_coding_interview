{
 "cells": [
  {
   "cell_type": "markdown",
   "metadata": {},
   "source": [
    "## Coding Skills -\n",
    "During the 1-hour technical screen/coding assessment you will be using an online whiteboard tool called CodePad (access to a computer with internet connection is required).  Please note that CodePad is not in a developer’s environment and will not return anything when you type code; it is similar to typing code in TextPad. The interviewer will be evaluating your technical acumen. The official requirement for Applied Science is basic, production level coding. They should be able to write code on the whiteboard and solve a problem with an algorithm and the use of data structures.\n",
    "Key Points\n",
    "    1. Ability to think algorithmically\n",
    "    2. Ability to analyze complexity\n",
    "    3. Ability to take hints and discuss code with a SDE\n",
    "    4. Coding at the level of being able to manipulate data\n",
    "    5. Some data structures knowledge (e.g., Hashes, Lists, Arrays)\n",
    "    6. Standard general algorithms (e.g., searching, sorting)\n",
    "    7. Ability to write the code in one of production language (Python, Java, C++, etc.).\n",
    "    8. Broad knowledge of coding methods (e.g., recursion)\n",
    "    9. More general data structures (e.g., trees, graphs\n",
    "    10. Verbal/written comments in code\n",
    "    11. Ability to communicates clearly with an SDE\n",
    "ii.      Links for coding practice problems (if you need):\n",
    "\n",
    "    1. https://www.geeksforgeeks.org/tag/amazon/\n",
    "    2. https://leetcode.com/problemset/all/\n",
    "\n",
    "iii.      Technical sample questions (Coding):\n",
    "\n",
    "    •   Given a list of numbers and K, return the number of pairs where the sum of the pair is less than K.\n",
    "        - Brute force seemed to be the solution and then optimized it\n",
    "    •   Given login and logout times of users (in ints, e.g. [2, 10], [5, 8]) find the peak load interval.\n",
    "    •   Given a series of login times, find the time interval when there was the peak Load in the System(Maximum Number of users Logged in)\n",
    "    •   Write a function that computes the dot product between two sparse vectors.\n",
    "        - Time complexity?\n",
    "        - What if vec2 is expected to be much sparser (looking for binary search)\n",
    "    •   Suppose we have a log containing customer interactions on the Amazon website as shown below. Return a list of unique customers who visited the site every day over the past week."
   ]
  },
  {
   "cell_type": "markdown",
   "metadata": {},
   "source": [
    "1. Given a list of numbers and K, return the number of pairs where the sum of the pair is less than K.\n",
    "    - Brute force seemed to be the solution and then optimized it"
   ]
  },
  {
   "cell_type": "code",
   "execution_count": 1,
   "metadata": {},
   "outputs": [],
   "source": [
    "import numpy as np"
   ]
  },
  {
   "cell_type": "code",
   "execution_count": 5,
   "metadata": {},
   "outputs": [],
   "source": [
    "l = np.random.randint(0, 100, 10)\n",
    "K = 50"
   ]
  },
  {
   "cell_type": "code",
   "execution_count": 8,
   "metadata": {},
   "outputs": [],
   "source": [
    "pairs = []\n",
    "for i in range(len(l)):\n",
    "    if l[i] < K:\n",
    "        for j in l[i:]:\n",
    "            if j < K:\n",
    "                if l[i] + j < K:\n",
    "                    pairs.append((l[i], j))   \n",
    "# complexity = n^2                    "
   ]
  },
  {
   "cell_type": "code",
   "execution_count": 9,
   "metadata": {},
   "outputs": [
    {
     "data": {
      "text/plain": [
       "[(16, 16), (16, 10), (10, 10), (10, 38)]"
      ]
     },
     "execution_count": 9,
     "metadata": {},
     "output_type": "execute_result"
    }
   ],
   "source": [
    "for i in range"
   ]
  },
  {
   "cell_type": "code",
   "execution_count": 16,
   "metadata": {},
   "outputs": [
    {
     "data": {
      "text/plain": [
       "array([ 10,  34, -41, -19, -22, -40,  40, -34, -17,  12])"
      ]
     },
     "execution_count": 16,
     "metadata": {},
     "output_type": "execute_result"
    }
   ],
   "source": [
    "K - l"
   ]
  },
  {
   "cell_type": "code",
   "execution_count": 11,
   "metadata": {},
   "outputs": [],
   "source": [
    "## Sorting Algorithms?"
   ]
  },
  {
   "cell_type": "code",
   "execution_count": 22,
   "metadata": {},
   "outputs": [
    {
     "data": {
      "text/plain": [
       "50"
      ]
     },
     "execution_count": 22,
     "metadata": {},
     "output_type": "execute_result"
    }
   ],
   "source": []
  },
  {
   "cell_type": "code",
   "execution_count": 20,
   "metadata": {},
   "outputs": [],
   "source": [
    "l1 = sorted(l)\n",
    "def pairs(l, K):\n",
    "    l1 = sorted(l) # (n log n)\n",
    "    result = []\n",
    "    for i in range(len(l1)):\n",
    "        if l1[i] > K:\n",
    "            return result\n",
    "        else:\n",
    "            \n"
   ]
  },
  {
   "cell_type": "code",
   "execution_count": 21,
   "metadata": {},
   "outputs": [
    {
     "ename": "TypeError",
     "evalue": "unsupported operand type(s) for -: 'int' and 'list'",
     "output_type": "error",
     "traceback": [
      "\u001b[0;31m---------------------------------------------------------------------------\u001b[0m",
      "\u001b[0;31mTypeError\u001b[0m                                 Traceback (most recent call last)",
      "\u001b[0;32m<ipython-input-21-6a731f2f9ca5>\u001b[0m in \u001b[0;36m<module>\u001b[0;34m\u001b[0m\n\u001b[0;32m----> 1\u001b[0;31m \u001b[0mK\u001b[0m \u001b[0;34m-\u001b[0m \u001b[0ml1\u001b[0m\u001b[0;34m\u001b[0m\u001b[0;34m\u001b[0m\u001b[0m\n\u001b[0m",
      "\u001b[0;31mTypeError\u001b[0m: unsupported operand type(s) for -: 'int' and 'list'"
     ]
    }
   ],
   "source": [
    "K - l1"
   ]
  },
  {
   "cell_type": "code",
   "execution_count": 29,
   "metadata": {},
   "outputs": [
    {
     "name": "stdout",
     "output_type": "stream",
     "text": [
      "1\n",
      "1\n"
     ]
    }
   ],
   "source": [
    "# def numberOfPairs(arr, k):\n",
    "#     history = {}\n",
    "#     result = set()\n",
    "#     for num in arr:\n",
    "#         # print(history)\n",
    "#         if num in history:\n",
    "#             result.add(tuple(sorted([num, history[num]])))\n",
    "#         else:\n",
    "#             if k - num in arr:\n",
    "#                 history[num] = k - num\n",
    "\n",
    "#     print(result)\n",
    "#     return len(result)\n",
    "\n",
    "\n",
    "def numberOfPairs(nums, target):\n",
    "    if len(nums) <= 1:\n",
    "        return 0\n",
    "\n",
    "    distinct_pairs = set([])\n",
    "    nums = sorted(nums)\n",
    "\n",
    "    for i, num in enumerate(nums):\n",
    "        search_res = binary_search(nums, i, len(nums) - 1, target - nums[i])\n",
    "        if search_res != -1:\n",
    "            distinct_pairs.add(tuple(sorted([num, search_res])))\n",
    "    return len(distinct_pairs)\n",
    "\n",
    "\n",
    "def binary_search(arr, l, r, x):\n",
    "    idx = l\n",
    "    while r >= l:\n",
    "        mid = (l + r) // 2\n",
    "\n",
    "        if arr[mid] == x:\n",
    "            if mid != idx:\n",
    "                return arr[mid]\n",
    "            else:\n",
    "                if arr[mid - 1] == x or arr[mid + 1] == x:\n",
    "                    return arr[mid]\n",
    "                else:\n",
    "                    return -1\n",
    "        elif arr[mid] > x:\n",
    "            r = mid - 1\n",
    "        else:\n",
    "            l = mid + 1\n",
    "\n",
    "    return -1\n",
    "\n",
    "\n",
    "def numberOfPairs2(arr, k):\n",
    "    result = set()\n",
    "    n = len(arr)\n",
    "    # Pick all elements one by one\n",
    "    for i in range(0, n):\n",
    "\n",
    "        # See if there is a pair of this picked element\n",
    "        for j in range(i + 1, n):\n",
    "\n",
    "            if arr[i] + arr[j] == k:\n",
    "                result.add(tuple(sorted([arr[i], arr[j]])))\n",
    "    return len(result)\n",
    "\n",
    "\n",
    "arr = [1, 3, 46, 1, 3, 9]\n",
    "k = 47\n",
    "\n",
    "print(numberOfPairs(arr, k))\n",
    "print(numberOfPairs2(arr, k))\n"
   ]
  },
  {
   "cell_type": "code",
   "execution_count": 30,
   "metadata": {},
   "outputs": [
    {
     "data": {
      "text/plain": [
       "1"
      ]
     },
     "execution_count": 30,
     "metadata": {},
     "output_type": "execute_result"
    }
   ],
   "source": [
    "numberOfPairs(l, K)"
   ]
  },
  {
   "cell_type": "code",
   "execution_count": 28,
   "metadata": {},
   "outputs": [
    {
     "ename": "TypeError",
     "evalue": "unsupported operand type(s) for -: 'list' and 'int'",
     "output_type": "error",
     "traceback": [
      "\u001b[0;31m---------------------------------------------------------------------------\u001b[0m",
      "\u001b[0;31mTypeError\u001b[0m                                 Traceback (most recent call last)",
      "\u001b[0;32m<ipython-input-28-6ec48b33f253>\u001b[0m in \u001b[0;36m<module>\u001b[0;34m\u001b[0m\n\u001b[0;32m----> 1\u001b[0;31m \u001b[0ml1\u001b[0m \u001b[0;34m-\u001b[0m\u001b[0;36m2\u001b[0m\u001b[0;34m\u001b[0m\u001b[0;34m\u001b[0m\u001b[0m\n\u001b[0m",
      "\u001b[0;31mTypeError\u001b[0m: unsupported operand type(s) for -: 'list' and 'int'"
     ]
    }
   ],
   "source": []
  },
  {
   "cell_type": "code",
   "execution_count": 44,
   "metadata": {},
   "outputs": [
    {
     "data": {
      "text/plain": [
       "5"
      ]
     },
     "execution_count": 44,
     "metadata": {},
     "output_type": "execute_result"
    }
   ],
   "source": [
    "(0 + 10)//2"
   ]
  },
  {
   "cell_type": "code",
   "execution_count": 40,
   "metadata": {},
   "outputs": [],
   "source": [
    "nums = sorted(l)\n",
    "target = 90"
   ]
  },
  {
   "cell_type": "code",
   "execution_count": 78,
   "metadata": {},
   "outputs": [],
   "source": [
    "def search(nums, target):\n",
    "    l = 0\n",
    "    r = len(nums) -1 \n",
    "    while l <= r:\n",
    "        m =  (l+r) //  2\n",
    "        print(l,r,m)\n",
    "        if nums[m] == target:\n",
    "            return m\n",
    "        elif nums[m] > target:\n",
    "            r = m - 1\n",
    "        elif nums[m] < target:\n",
    "            l = m + 1\n",
    "    return l +1"
   ]
  },
  {
   "cell_type": "code",
   "execution_count": 83,
   "metadata": {},
   "outputs": [
    {
     "name": "stdout",
     "output_type": "stream",
     "text": [
      "0 3 1\n",
      "0 0 0\n"
     ]
    },
    {
     "data": {
      "text/plain": [
       "2"
      ]
     },
     "execution_count": 83,
     "metadata": {},
     "output_type": "execute_result"
    }
   ],
   "source": [
    "search([1,3,5,6], 2)"
   ]
  },
  {
   "cell_type": "code",
   "execution_count": 91,
   "metadata": {},
   "outputs": [],
   "source": [
    "from typing import List\n",
    "def twoSum(nums: List[int], target: int) -> List[int]:\n",
    "        seen = {}\n",
    "        for i, x in enumerate(nums):\n",
    "            res = target - x\n",
    "            print(seen)\n",
    "            if res in seen:\n",
    "                return [seen[res], i]\n",
    "            else:\n",
    "                seen[res] = i\n",
    "        \n",
    "        \n",
    "        return []"
   ]
  },
  {
   "cell_type": "code",
   "execution_count": 92,
   "metadata": {},
   "outputs": [
    {
     "name": "stdout",
     "output_type": "stream",
     "text": [
      "{}\n",
      "{3: 0}\n",
      "{3: 0, 4: 1}\n"
     ]
    },
    {
     "data": {
      "text/plain": [
       "[]"
      ]
     },
     "execution_count": 92,
     "metadata": {},
     "output_type": "execute_result"
    }
   ],
   "source": [
    "twoSum([3,2,4], 6)"
   ]
  },
  {
   "cell_type": "code",
   "execution_count": 106,
   "metadata": {},
   "outputs": [],
   "source": [
    "def threeSum(nums: List[int]) -> List[List[int]]:\n",
    "    result = []\n",
    "    for i, a in enumerate(nums):\n",
    "        for j, b in enumerate(nums[i+1:]):\n",
    "            for k, c in enumerate(nums[i+j+1+1:]):\n",
    "                if a+b+c==0:\n",
    "                    result.append([a, b, c])\n",
    "    return result"
   ]
  },
  {
   "cell_type": "code",
   "execution_count": 94,
   "metadata": {},
   "outputs": [],
   "source": [
    "from collections import Counter"
   ]
  },
  {
   "cell_type": "code",
   "execution_count": 102,
   "metadata": {},
   "outputs": [],
   "source": [
    "nums = [-1, 0, 1, 2, -1, -4]\n",
    "c = Counter(nums).keys()"
   ]
  },
  {
   "cell_type": "code",
   "execution_count": 105,
   "metadata": {},
   "outputs": [
    {
     "data": {
      "text/plain": [
       "[-1, 0, 1, 2, -4]"
      ]
     },
     "execution_count": 105,
     "metadata": {},
     "output_type": "execute_result"
    }
   ],
   "source": [
    "list(c)"
   ]
  },
  {
   "cell_type": "code",
   "execution_count": 107,
   "metadata": {},
   "outputs": [
    {
     "data": {
      "text/plain": [
       "[[-1, 0, 1], [-1, 2, -1], [0, 1, -1]]"
      ]
     },
     "execution_count": 107,
     "metadata": {},
     "output_type": "execute_result"
    }
   ],
   "source": [
    "threeSum(nums)"
   ]
  },
  {
   "cell_type": "code",
   "execution_count": null,
   "metadata": {},
   "outputs": [],
   "source": [
    "class Solution:\n",
    "    def threeSum(self, nums: List[int]) -> List[List[int]]:\n",
    "        res = []\n",
    "        nums.sort()\n",
    "        for i in range(len(nums)):\n",
    "            if nums[i] > 0:\n",
    "                break\n",
    "            if i == 0 or nums[i - 1] != nums[i]:\n",
    "                self.twoSum(nums, i, res)\n",
    "        return res\n",
    "\n",
    "    def twoSum(self, nums: List[int], i: int, res: List[List[int]]):\n",
    "        seen = set()\n",
    "        j = i + 1\n",
    "        while j < len(nums):\n",
    "            complement = -nums[i] - nums[j]\n",
    "            if complement in seen:\n",
    "                res.append([nums[i], nums[j], complement])\n",
    "                while j + 1 < len(nums) and nums[j] == nums[j + 1]:\n",
    "                    j += 1\n",
    "            seen.add(nums[j])\n",
    "            j += 1"
   ]
  },
  {
   "cell_type": "code",
   "execution_count": null,
   "metadata": {},
   "outputs": [],
   "source": [
    " results = []\n",
    "for i, target in enumerate(nums):\n",
    "    seen = {}\n",
    "    for j, a in enumerate(nums[i+1:]):\n",
    "        res = -target - a\n",
    "        if res in seen:\n",
    "            results.append([target, res, a])\n",
    "        seen[a] = j\n",
    "\n",
    "return results"
   ]
  },
  {
   "cell_type": "code",
   "execution_count": 18,
   "metadata": {},
   "outputs": [],
   "source": [
    "def firstBadVersion(n):\n",
    "        \"\"\"\n",
    "        :type n: int\n",
    "        :rtype: int\n",
    "        \"\"\"\n",
    "        good = 1\n",
    "        bad = n\n",
    "        \n",
    "        while good < bad:\n",
    "            m = (good + bad) // 2\n",
    "            print(m)\n",
    "            if isBadVersion(m):\n",
    "                bad = m\n",
    "                print(isBadVersion(m), bad)\n",
    "            else:\n",
    "                good = m+1\n",
    "                print(isBadVersion(m), good)\n",
    "        return good\n",
    "def isBadVersion(n):\n",
    "    if n>= 2:\n",
    "        return True\n",
    "    return False"
   ]
  },
  {
   "cell_type": "code",
   "execution_count": 19,
   "metadata": {},
   "outputs": [
    {
     "name": "stdout",
     "output_type": "stream",
     "text": [
      "2\n",
      "True 2\n",
      "1\n",
      "False 2\n"
     ]
    },
    {
     "data": {
      "text/plain": [
       "2"
      ]
     },
     "execution_count": 19,
     "metadata": {},
     "output_type": "execute_result"
    }
   ],
   "source": [
    "firstBadVersion(3)"
   ]
  },
  {
   "cell_type": "code",
   "execution_count": 37,
   "metadata": {},
   "outputs": [],
   "source": [
    "\n",
    "def maxSubArray(nums) -> int:\n",
    "        current_sum = nums[0]\n",
    "        max_sum = current_sum\n",
    "        for num in nums[1:]:\n",
    "            print(max_sum, current_sum, num)\n",
    "            if num + current_sum >= current_sum:\n",
    "                current_sum += num\n",
    "                if current_sum > max_sum:\n",
    "                    max_sum = current_sum\n",
    "            else:\n",
    "                current_sum = num\n",
    "        return  max_sum"
   ]
  },
  {
   "cell_type": "code",
   "execution_count": 38,
   "metadata": {},
   "outputs": [
    {
     "name": "stdout",
     "output_type": "stream",
     "text": [
      "-2 -2 1\n",
      "-1 -1 -3\n",
      "-1 -3 4\n",
      "1 1 -1\n",
      "1 -1 2\n",
      "1 1 1\n",
      "2 2 -5\n",
      "2 -5 4\n"
     ]
    },
    {
     "data": {
      "text/plain": [
       "2"
      ]
     },
     "execution_count": 38,
     "metadata": {},
     "output_type": "execute_result"
    }
   ],
   "source": [
    "maxSubArray([-2,1,-3,4,-1,2,1,-5,4])"
   ]
  },
  {
   "cell_type": "code",
   "execution_count": null,
   "metadata": {},
   "outputs": [],
   "source": [
    "class Solution:\n",
    "    def maxSubArray(nums: 'List[int]') -> 'int':\n",
    "        n = len(nums)\n",
    "        curr_sum = max_sum = nums[0]\n",
    "\n",
    "        for i in range(1, n):\n",
    "            curr_sum = max(nums[i], curr_sum + nums[i])\n",
    "            max_sum = max(max_sum, curr_sum)\n",
    " "
   ]
  },
  {
   "cell_type": "code",
   "execution_count": 66,
   "metadata": {},
   "outputs": [],
   "source": [
    "from typing import List\n",
    "def subarraySum(nums, k):\n",
    "    count, cur, res = {0: 1}, 0, 0\n",
    "    for i, v in enumerate(nums):\n",
    "        cur += v\n",
    "        res += count.get(cur - k, 0)\n",
    "        count[cur] = count.get(cur, 0) + 1\n",
    "        print(\"i =\", i, \"v =\", v, \"cur =\", cur, \"cur-k =\", cur - k, \"res = \", res, \"count =\", count)\n",
    "\n",
    "    return res"
   ]
  },
  {
   "cell_type": "code",
   "execution_count": 71,
   "metadata": {},
   "outputs": [
    {
     "name": "stdout",
     "output_type": "stream",
     "text": [
      "i = 0 v = -1 cur = -1 cur-k = 2 res =  0 count = {0: 1, -1: 1}\n",
      "i = 1 v = -2 cur = -3 cur-k = 0 res =  1 count = {0: 1, -1: 1, -3: 1}\n",
      "i = 2 v = -3 cur = -6 cur-k = -3 res =  2 count = {0: 1, -1: 1, -3: 1, -6: 1}\n",
      "i = 3 v = 0 cur = -6 cur-k = -3 res =  3 count = {0: 1, -1: 1, -3: 1, -6: 2}\n",
      "i = 4 v = 0 cur = -6 cur-k = -3 res =  4 count = {0: 1, -1: 1, -3: 1, -6: 3}\n",
      "i = 5 v = -5 cur = -11 cur-k = -8 res =  4 count = {0: 1, -1: 1, -3: 1, -6: 3, -11: 1}\n",
      "i = 6 v = 0 cur = -11 cur-k = -8 res =  4 count = {0: 1, -1: 1, -3: 1, -6: 3, -11: 2}\n",
      "i = 7 v = 0 cur = -11 cur-k = -8 res =  4 count = {0: 1, -1: 1, -3: 1, -6: 3, -11: 3}\n",
      "i = 8 v = -3 cur = -14 cur-k = -11 res =  7 count = {0: 1, -1: 1, -3: 1, -6: 3, -11: 3, -14: 1}\n"
     ]
    },
    {
     "data": {
      "text/plain": [
       "7"
      ]
     },
     "execution_count": 71,
     "metadata": {},
     "output_type": "execute_result"
    }
   ],
   "source": [
    "subarraySum([-1,-2,-3, 0, 0, -5 , 0, 0, -3], -3)"
   ]
  },
  {
   "cell_type": "code",
   "execution_count": 55,
   "metadata": {},
   "outputs": [],
   "source": [
    "def rotate(nums, k):\n",
    " # speed up the rotation\n",
    "    k %= len(nums)\n",
    "    for i in range(k):\n",
    "        previous = nums[-1]\n",
    "        for j in range(len(nums)):\n",
    "            nums[j], previous = previous, nums[j]"
   ]
  },
  {
   "cell_type": "code",
   "execution_count": 56,
   "metadata": {},
   "outputs": [
    {
     "name": "stdout",
     "output_type": "stream",
     "text": [
      "[1, 2, 3, 4, 5, 6, 7]\n",
      "[5, 6, 7, 1, 2, 3, 4]\n"
     ]
    }
   ],
   "source": [
    "nums = [1,2,3,4,5,6,7]\n",
    "print(nums)\n",
    "rotate(nums = nums, k = 3)\n",
    "print(nums)"
   ]
  },
  {
   "cell_type": "code",
   "execution_count": 85,
   "metadata": {},
   "outputs": [],
   "source": [
    "def search(nums, target):\n",
    "    l = 0\n",
    "    r = len(nums) - 1\n",
    "    while (nums[l] > nums[r]) and (l<=r):\n",
    "        m = (l+r)//2\n",
    "        if nums[m] > nums[l]:\n",
    "            l = m\n",
    "        else:\n",
    "            r = m\n",
    "    \n",
    "    pivot = m +1\n",
    "    if nums[0] <= target:\n",
    "        l = 0\n",
    "        r = pivot\n",
    "    elif nums[-1] >= target:\n",
    "        l =pivot\n",
    "        r = len(nums) - 1\n",
    "    \n",
    "    while l <= r:\n",
    "        mid = (l+r)//2\n",
    "        if nums[mid] == target:\n",
    "            return mid\n",
    "        elif nums[m] > target:\n",
    "            r = mid - 1\n",
    "        else:\n",
    "            l = mid +1\n",
    "    return -1\n",
    "    "
   ]
  },
  {
   "cell_type": "code",
   "execution_count": 87,
   "metadata": {},
   "outputs": [],
   "source": [
    "class Solution:\n",
    "    def search(nums, target):\n",
    "        \"\"\"\n",
    "        :type nums: List[int]\n",
    "        :type target: int\n",
    "        :rtype: int\n",
    "        \"\"\"\n",
    "        start, end = 0, len(nums) - 1\n",
    "        while start <= end:\n",
    "            mid = (start + end) //2\n",
    "            if nums[mid] == target:\n",
    "                return mid\n",
    "            elif nums[mid] > nums[start]:\n",
    "                if target >= nums[start] and target <= nums[mid]:\n",
    "                    end = mid -1\n",
    "                else:\n",
    "                    start = mid + 1\n",
    "            else:\n",
    "                if target > nums[mid]:\n",
    "                    start = mid +1\n",
    "                else:\n",
    "                    end = mid -1\n",
    "        return -1"
   ]
  },
  {
   "cell_type": "code",
   "execution_count": 96,
   "metadata": {},
   "outputs": [],
   "source": [
    "nums = [1]"
   ]
  },
  {
   "cell_type": "code",
   "execution_count": null,
   "metadata": {},
   "outputs": [],
   "source": []
  },
  {
   "cell_type": "code",
   "execution_count": 97,
   "metadata": {},
   "outputs": [],
   "source": [
    "def removeDuplicates(nums) -> int:\n",
    "    i = 0\n",
    "    while i < len(nums) - 1:\n",
    "        if nums[i] == nums[i+1]:\n",
    "            v = nums.pop(i+1)\n",
    "        else:\n",
    "            i+=1\n",
    "    return len(nums)\n",
    "    "
   ]
  },
  {
   "cell_type": "code",
   "execution_count": 234,
   "metadata": {},
   "outputs": [],
   "source": [
    "def lengthOfLongestSubstring(s: str) -> int:\n",
    "    max_len = 0\n",
    "    i = 0\n",
    "    while i < len(s) -1:\n",
    "        for j in range(i, len(s)):\n",
    "            if s[j] in s[i:j]:\n",
    "                i +=1\n",
    "                break\n",
    "            else:\n",
    "                cur_len = len(s[i:j])\n",
    "                max_len = max(max_len, cur_len)\n",
    "    return max_len \n",
    "        "
   ]
  },
  {
   "cell_type": "code",
   "execution_count": 235,
   "metadata": {},
   "outputs": [
    {
     "data": {
      "text/plain": [
       "2"
      ]
     },
     "execution_count": 235,
     "metadata": {},
     "output_type": "execute_result"
    }
   ],
   "source": [
    "lengthOfLongestSubstring(\"abcabcbb\")"
   ]
  },
  {
   "cell_type": "code",
   "execution_count": 122,
   "metadata": {},
   "outputs": [],
   "source": [
    "input_matrix = [[1,2,3],[4,5,6],[7,8,9]]"
   ]
  },
  {
   "cell_type": "code",
   "execution_count": 143,
   "metadata": {},
   "outputs": [],
   "source": [
    "def rotate_matrix(matrix):\n",
    "    n = len(matrix[0])        \n",
    "    for i in range(n // 2 + n % 2):\n",
    "        for j in range(n // 2):\n",
    "            tmp = matrix[n - 1 - j][i]\n",
    "            matrix[n - 1 - j][i] = matrix[n - 1 - i][n - j - 1]\n",
    "            matrix[n - 1 - i][n - j - 1] = matrix[j][n - 1 -i]\n",
    "            matrix[j][n - 1 - i] = matrix[i][j]\n",
    "            matrix[i][j] = tmp\n",
    "    "
   ]
  },
  {
   "cell_type": "code",
   "execution_count": 258,
   "metadata": {},
   "outputs": [],
   "source": [
    "def lengthOfLongestSubstring(s: str) -> int:\n",
    "        ans = 0\n",
    "        sub = ''\n",
    "        for i, char in enumerate(s):\n",
    "            print(i, char)\n",
    "            if char not in sub:\n",
    "                print(\"char not in sub\", char, sub)\n",
    "                sub += char\n",
    "                ans = max(ans, len(sub))\n",
    "            else:\n",
    "                cut = sub.index(char)\n",
    "                sub = sub[cut+1:] + char\n",
    "                print(\"char not in sub\", char, cut, sub, )\n",
    "        return ans "
   ]
  },
  {
   "cell_type": "code",
   "execution_count": 261,
   "metadata": {},
   "outputs": [
    {
     "name": "stdout",
     "output_type": "stream",
     "text": [
      "0 b\n",
      "char not in sub b \n",
      "1 b\n",
      "char not in sub b 0 b\n",
      "2 b\n",
      "char not in sub b 0 b\n"
     ]
    },
    {
     "data": {
      "text/plain": [
       "1"
      ]
     },
     "execution_count": 261,
     "metadata": {},
     "output_type": "execute_result"
    }
   ],
   "source": [
    "lengthOfLongestSubstring(\"bbb\")"
   ]
  },
  {
   "cell_type": "code",
   "execution_count": 203,
   "metadata": {},
   "outputs": [],
   "source": [
    "s = 'abcabcbb'"
   ]
  },
  {
   "cell_type": "code",
   "execution_count": 244,
   "metadata": {},
   "outputs": [
    {
     "data": {
      "text/plain": [
       "0"
      ]
     },
     "execution_count": 244,
     "metadata": {},
     "output_type": "execute_result"
    }
   ],
   "source": [
    "s.index('a')"
   ]
  },
  {
   "cell_type": "code",
   "execution_count": 208,
   "metadata": {},
   "outputs": [
    {
     "data": {
      "text/plain": [
       "'b'"
      ]
     },
     "execution_count": 208,
     "metadata": {},
     "output_type": "execute_result"
    }
   ],
   "source": [
    "s[1]"
   ]
  },
  {
   "cell_type": "code",
   "execution_count": 262,
   "metadata": {},
   "outputs": [],
   "source": [
    "import heapq"
   ]
  },
  {
   "cell_type": "code",
   "execution_count": 267,
   "metadata": {},
   "outputs": [
    {
     "data": {
      "text/plain": [
       "[1, 2]"
      ]
     },
     "execution_count": 267,
     "metadata": {},
     "output_type": "execute_result"
    }
   ],
   "source": [
    "heapq.nsmallest(2, [3,2,1,5,6,4])"
   ]
  },
  {
   "cell_type": "code",
   "execution_count": 271,
   "metadata": {},
   "outputs": [],
   "source": [
    "h =[1,2,3]"
   ]
  },
  {
   "cell_type": "code",
   "execution_count": 273,
   "metadata": {},
   "outputs": [
    {
     "data": {
      "text/plain": [
       "[3, 2, 1]"
      ]
     },
     "execution_count": 273,
     "metadata": {},
     "output_type": "execute_result"
    }
   ],
   "source": [
    "h[::-1]"
   ]
  },
  {
   "cell_type": "code",
   "execution_count": 276,
   "metadata": {},
   "outputs": [
    {
     "data": {
      "text/plain": [
       "2"
      ]
     },
     "execution_count": 276,
     "metadata": {},
     "output_type": "execute_result"
    }
   ],
   "source": [
    "10 - (10 // 4)* 4"
   ]
  },
  {
   "cell_type": "code",
   "execution_count": null,
   "metadata": {},
   "outputs": [],
   "source": []
  }
 ],
 "metadata": {
  "kernelspec": {
   "display_name": "Python 3",
   "language": "python",
   "name": "python3"
  },
  "language_info": {
   "codemirror_mode": {
    "name": "ipython",
    "version": 3
   },
   "file_extension": ".py",
   "mimetype": "text/x-python",
   "name": "python",
   "nbconvert_exporter": "python",
   "pygments_lexer": "ipython3",
   "version": "3.7.6"
  }
 },
 "nbformat": 4,
 "nbformat_minor": 4
}
