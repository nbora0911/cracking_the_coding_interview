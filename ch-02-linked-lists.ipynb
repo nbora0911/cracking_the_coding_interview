{
 "cells": [
  {
   "cell_type": "markdown",
   "metadata": {},
   "source": [
    "Q1. Remove the duplicate values from a linked list."
   ]
  },
  {
   "cell_type": "code",
   "execution_count": 1,
   "metadata": {},
   "outputs": [],
   "source": [
    "from random import randint\n",
    "\n",
    "class LinkedListNode:\n",
    "\n",
    "    def __init__(self, value, nextNode=None, prevNode=None):\n",
    "        self.value = value\n",
    "        self.next = nextNode\n",
    "        self.prev = prevNode\n",
    "\n",
    "    def __str__(self):\n",
    "        return str(self.value)\n",
    "\n",
    "\n",
    "class LinkedList:\n",
    "\n",
    "    def __init__(self, values=None):\n",
    "        self.head = None\n",
    "        self.tail = None\n",
    "        if values is not None:\n",
    "            self.add_multiple(values)\n",
    "\n",
    "    def __iter__(self):\n",
    "        current = self.head\n",
    "        while current:\n",
    "            yield current\n",
    "            current = current.next\n",
    "\n",
    "    def __str__(self):\n",
    "        values = [str(x) for x in self]\n",
    "        return ' -> '.join(values)\n",
    "\n",
    "    def __len__(self):\n",
    "        result = 0\n",
    "        node = self.head\n",
    "        while node:\n",
    "            result += 1\n",
    "            node = node.next\n",
    "        return result\n",
    "\n",
    "    def add(self, value):\n",
    "        if self.head is None:\n",
    "            self.tail = self.head = LinkedListNode(value)\n",
    "        else:\n",
    "            self.tail.next = LinkedListNode(value)\n",
    "            self.tail = self.tail.next\n",
    "        return self.tail\n",
    "\n",
    "    def add_to_beginning(self, value):\n",
    "        if self.head is None:\n",
    "            self.tail = self.head = LinkedListNode(value)\n",
    "        else:\n",
    "            self.head = LinkedListNode(value, self.head)\n",
    "        return self.head\n",
    "\n",
    "    def add_multiple(self, values):\n",
    "        for v in values:\n",
    "            self.add(v)\n",
    "\n",
    "    def generate(self, n, min_value, max_value):\n",
    "        self.head = self.tail = None\n",
    "        for i in range(n):\n",
    "            self.add(randint(min_value, max_value))\n",
    "        return self\n",
    "\n",
    "\n",
    "class DoublyLinkedList(LinkedList):\n",
    "\n",
    "    def add(self, value):\n",
    "        if self.head is None:\n",
    "            self.tail = self.head = LinkedListNode(value, None, self.tail)\n",
    "        else:\n",
    "            self.tail.next = LinkedListNode(value)\n",
    "            self.tail = self.tail.next\n",
    "        return self"
   ]
  },
  {
   "cell_type": "code",
   "execution_count": 2,
   "metadata": {},
   "outputs": [],
   "source": [
    "def remove_duplicates(ll):\n",
    "    if ll.head == None:\n",
    "        return\n",
    "    \n",
    "    current = ll.head\n",
    "    values = [current.value]\n",
    "    while current.next:\n",
    "        if current.next.value in values:\n",
    "            current.next = current.next.next\n",
    "        else:\n",
    "            values.append(current.next.value)\n",
    "            current = current.next\n",
    "            \n",
    "    return ll"
   ]
  },
  {
   "cell_type": "code",
   "execution_count": 3,
   "metadata": {},
   "outputs": [
    {
     "name": "stdout",
     "output_type": "stream",
     "text": [
      "7 -> 2 -> 1 -> 0 -> 0 -> 9 -> 8 -> 5 -> 8 -> 2 -> 1 -> 5 -> 1 -> 1 -> 8 -> 9 -> 5 -> 0 -> 8 -> 7 -> 2 -> 3 -> 2 -> 8 -> 5 -> 9 -> 1 -> 4 -> 8 -> 7 -> 6 -> 6 -> 9 -> 1 -> 2 -> 2 -> 3 -> 5 -> 1 -> 5 -> 4 -> 1 -> 2 -> 7 -> 2 -> 7 -> 0 -> 2 -> 8 -> 7 -> 2 -> 8 -> 0 -> 0 -> 8 -> 4 -> 8 -> 5 -> 1 -> 9 -> 0 -> 8 -> 2 -> 9 -> 6 -> 0 -> 7 -> 7 -> 3 -> 6 -> 5 -> 2 -> 0 -> 6 -> 5 -> 5 -> 6 -> 3 -> 7 -> 5 -> 6 -> 4 -> 5 -> 1 -> 7 -> 6 -> 7 -> 8 -> 3 -> 7 -> 0 -> 6 -> 1 -> 5 -> 8 -> 8 -> 9 -> 9 -> 9 -> 2\n",
      "remove_duplicates 7 -> 2 -> 1 -> 0 -> 9 -> 8 -> 5 -> 3 -> 4 -> 6\n"
     ]
    }
   ],
   "source": [
    "ll = LinkedList()\n",
    "ll.generate(100, 0, 9)\n",
    "print(ll)\n",
    "remove_duplicates(ll)\n",
    "print('remove_duplicates', ll)"
   ]
  },
  {
   "cell_type": "markdown",
   "metadata": {},
   "source": [
    "Q2. Return the k^{th} to last node in a linked list."
   ]
  },
  {
   "cell_type": "code",
   "execution_count": 4,
   "metadata": {},
   "outputs": [
    {
     "name": "stdout",
     "output_type": "stream",
     "text": [
      "72 -> 60 -> 94 -> 62 -> 80 -> 35 -> 88 -> 34 -> 70 -> 28\n",
      "34\n",
      "34\n"
     ]
    }
   ],
   "source": [
    "def kth_to_last(ll, k):\n",
    "    l = len(ll)\n",
    "    klast = l- k\n",
    "    counter = 0\n",
    "    current = ll.head\n",
    "    while counter < klast and current.next:\n",
    "        current = current.next\n",
    "        counter += 1\n",
    "\n",
    "    return (current.value)\n",
    "\n",
    "# use two pointers runner - current = k\n",
    "def kth_to_last_v2(ll, k):\n",
    "    runner = current = ll.head\n",
    "    for i in range(k):\n",
    "        if runner is None:\n",
    "            return None\n",
    "        runner = runner.next\n",
    "\n",
    "    while runner:\n",
    "        current = current.next\n",
    "        runner = runner.next\n",
    "\n",
    "    return current\n",
    "\n",
    "ll = LinkedList()\n",
    "ll.generate(10, 0, 99)\n",
    "print(ll)\n",
    "print(kth_to_last(ll, 3))\n",
    "print(kth_to_last_v2(ll, 3))"
   ]
  },
  {
   "cell_type": "markdown",
   "metadata": {},
   "source": [
    "Q3. Delete the given nonterminal node from the containing linked list."
   ]
  },
  {
   "cell_type": "code",
   "execution_count": 5,
   "metadata": {},
   "outputs": [],
   "source": [
    "def delete_node(ll, n):\n",
    "    \n",
    "    prev = ll.head\n",
    "    current = ll.head.next\n",
    "    while current.next:\n",
    "        if current.value == n:\n",
    "            prev.next = current.next\n",
    "        else:\n",
    "            prev = current\n",
    "            current = current.next\n",
    "            \n",
    "    "
   ]
  },
  {
   "cell_type": "code",
   "execution_count": 6,
   "metadata": {},
   "outputs": [
    {
     "name": "stdout",
     "output_type": "stream",
     "text": [
      "9 -> 5 -> 5 -> 9 -> 7 -> 4 -> 8 -> 1 -> 0 -> 8\n",
      "9 -> 5 -> 5 -> 9 -> 7 -> 4 -> 8 -> 1 -> 0 -> 8\n"
     ]
    }
   ],
   "source": [
    "ll = LinkedList()\n",
    "ll.generate(10, 0, 9)\n",
    "print(ll)\n",
    "delete_node(ll, 2)\n",
    "print(ll)"
   ]
  },
  {
   "cell_type": "code",
   "execution_count": 7,
   "metadata": {},
   "outputs": [
    {
     "name": "stdout",
     "output_type": "stream",
     "text": [
      "7 -> 3 -> 9 -> 4 -> 1 -> 7 -> 9 -> 8 -> 9 -> 6\n"
     ]
    },
    {
     "ename": "KeyboardInterrupt",
     "evalue": "",
     "output_type": "error",
     "traceback": [
      "\u001b[0;31m--------------------------------------------------------------------------\u001b[0m",
      "\u001b[0;31mKeyboardInterrupt\u001b[0m                        Traceback (most recent call last)",
      "\u001b[0;32m<ipython-input-7-9f6e7b79f848>\u001b[0m in \u001b[0;36m<module>\u001b[0;34m()\u001b[0m\n\u001b[1;32m      2\u001b[0m \u001b[0mll\u001b[0m\u001b[0;34m.\u001b[0m\u001b[0mgenerate\u001b[0m\u001b[0;34m(\u001b[0m\u001b[0;36m10\u001b[0m\u001b[0;34m,\u001b[0m \u001b[0;36m0\u001b[0m\u001b[0;34m,\u001b[0m \u001b[0;36m9\u001b[0m\u001b[0;34m)\u001b[0m\u001b[0;34m\u001b[0m\u001b[0m\n\u001b[1;32m      3\u001b[0m \u001b[0mprint\u001b[0m\u001b[0;34m(\u001b[0m\u001b[0mll\u001b[0m\u001b[0;34m)\u001b[0m\u001b[0;34m\u001b[0m\u001b[0m\n\u001b[0;32m----> 4\u001b[0;31m \u001b[0mll1\u001b[0m \u001b[0;34m=\u001b[0m \u001b[0mdelete_node\u001b[0m\u001b[0;34m(\u001b[0m\u001b[0mll\u001b[0m\u001b[0;34m,\u001b[0m \u001b[0;36m7\u001b[0m\u001b[0;34m)\u001b[0m\u001b[0;34m\u001b[0m\u001b[0m\n\u001b[0m\u001b[1;32m      5\u001b[0m \u001b[0mprint\u001b[0m\u001b[0;34m(\u001b[0m\u001b[0mll\u001b[0m\u001b[0;34m)\u001b[0m\u001b[0;34m\u001b[0m\u001b[0m\n",
      "\u001b[0;32m<ipython-input-5-286d5f88e08f>\u001b[0m in \u001b[0;36mdelete_node\u001b[0;34m(ll, n)\u001b[0m\n\u001b[1;32m      5\u001b[0m     \u001b[0;32mwhile\u001b[0m \u001b[0mcurrent\u001b[0m\u001b[0;34m.\u001b[0m\u001b[0mnext\u001b[0m\u001b[0;34m:\u001b[0m\u001b[0;34m\u001b[0m\u001b[0m\n\u001b[1;32m      6\u001b[0m         \u001b[0;32mif\u001b[0m \u001b[0mcurrent\u001b[0m\u001b[0;34m.\u001b[0m\u001b[0mvalue\u001b[0m \u001b[0;34m==\u001b[0m \u001b[0mn\u001b[0m\u001b[0;34m:\u001b[0m\u001b[0;34m\u001b[0m\u001b[0m\n\u001b[0;32m----> 7\u001b[0;31m             \u001b[0mprev\u001b[0m\u001b[0;34m.\u001b[0m\u001b[0mnext\u001b[0m \u001b[0;34m=\u001b[0m \u001b[0mcurrent\u001b[0m\u001b[0;34m.\u001b[0m\u001b[0mnext\u001b[0m\u001b[0;34m\u001b[0m\u001b[0m\n\u001b[0m\u001b[1;32m      8\u001b[0m         \u001b[0;32melse\u001b[0m\u001b[0;34m:\u001b[0m\u001b[0;34m\u001b[0m\u001b[0m\n\u001b[1;32m      9\u001b[0m             \u001b[0mprev\u001b[0m \u001b[0;34m=\u001b[0m \u001b[0mcurrent\u001b[0m\u001b[0;34m\u001b[0m\u001b[0m\n",
      "\u001b[0;31mKeyboardInterrupt\u001b[0m: "
     ]
    }
   ],
   "source": [
    "ll = LinkedList()\n",
    "ll.generate(10, 0, 9)\n",
    "print(ll)\n",
    "ll1 = delete_node(ll, 7)\n",
    "print(ll)"
   ]
  },
  {
   "cell_type": "code",
   "execution_count": null,
   "metadata": {},
   "outputs": [],
   "source": [
    "def delete_middle_node(node):\n",
    "    node.value = node.next.value\n",
    "    node.next = node.next.next"
   ]
  },
  {
   "cell_type": "code",
   "execution_count": null,
   "metadata": {},
   "outputs": [],
   "source": [
    "ll = LinkedList()\n",
    "ll.add_multiple([1, 2, 3, 4])\n",
    "print(ll)\n",
    "middle_node = ll.add(5)\n",
    "print(middle_node)\n",
    "ll.add_multiple([7, 8, 9])\n",
    "print(ll)"
   ]
  },
  {
   "cell_type": "code",
   "execution_count": 8,
   "metadata": {},
   "outputs": [
    {
     "name": "stdout",
     "output_type": "stream",
     "text": [
      "1 -> 2 -> 3 -> 4 -> 7 -> 8 -> 9\n"
     ]
    }
   ],
   "source": [
    "delete_middle_node(middle_node)\n",
    "print(ll)"
   ]
  },
  {
   "cell_type": "code",
   "execution_count": null,
   "metadata": {},
   "outputs": [],
   "source": [
    "delete_middle_node(middle_node)\n",
    "print(ll)"
   ]
  },
  {
   "cell_type": "code",
   "execution_count": 15,
   "metadata": {},
   "outputs": [],
   "source": [
    "middle_node = ll.add(10)"
   ]
  },
  {
   "cell_type": "code",
   "execution_count": 8,
   "metadata": {},
   "outputs": [
    {
     "ename": "NameError",
     "evalue": "name 'middle_node' is not defined",
     "output_type": "error",
     "traceback": [
      "\u001b[0;31m--------------------------------------------------------------------------\u001b[0m",
      "\u001b[0;31mNameError\u001b[0m                                Traceback (most recent call last)",
      "\u001b[0;32m<ipython-input-8-732a0804db57>\u001b[0m in \u001b[0;36m<module>\u001b[0;34m()\u001b[0m\n\u001b[0;32m----> 1\u001b[0;31m \u001b[0mprint\u001b[0m\u001b[0;34m(\u001b[0m\u001b[0mmiddle_node\u001b[0m\u001b[0;34m.\u001b[0m\u001b[0mvalue\u001b[0m\u001b[0;34m)\u001b[0m\u001b[0;34m\u001b[0m\u001b[0m\n\u001b[0m",
      "\u001b[0;31mNameError\u001b[0m: name 'middle_node' is not defined"
     ]
    }
   ],
   "source": [
    "print(middle_node.value)"
   ]
  },
  {
   "cell_type": "code",
   "execution_count": 21,
   "metadata": {},
   "outputs": [],
   "source": [
    "ll.add_multiple([71, 18, 19])"
   ]
  },
  {
   "cell_type": "code",
   "execution_count": 22,
   "metadata": {},
   "outputs": [],
   "source": [
    "delete_middle_node(middle_node)"
   ]
  },
  {
   "cell_type": "code",
   "execution_count": 23,
   "metadata": {},
   "outputs": [
    {
     "name": "stdout",
     "output_type": "stream",
     "text": [
      "1 -> 2 -> 3 -> 4 -> 8 -> 9 -> 71 -> 18 -> 19\n"
     ]
    }
   ],
   "source": [
    "print(ll)"
   ]
  },
  {
   "cell_type": "markdown",
   "metadata": {},
   "source": [
    "Q4. Partition a linked list so that all of the nodes containing values less than\n",
    "a pivot value occur before all of the nodes containing values greater than\n",
    "or equal to the pivot value.\n"
   ]
  },
  {
   "cell_type": "code",
   "execution_count": 9,
   "metadata": {},
   "outputs": [],
   "source": [
    "def partition(ll, pivot):\n",
    "    \n",
    "    llnew = LinkedList()\n",
    "\n",
    "    current = ll.head\n",
    "    while current.next:\n",
    "        if current.value < pivot:\n",
    "            llnew.add_to_beginning(current.value)\n",
    "        else:\n",
    "            llnew.add_multiple([current.value])\n",
    "        current = current.next\n",
    "    return llnew"
   ]
  },
  {
   "cell_type": "code",
   "execution_count": 12,
   "metadata": {},
   "outputs": [],
   "source": [
    "ll = LinkedList()\n",
    "ll.add_multiple([1, 55, 22, 3,21, 32, 43,2,7,4, 67, 92, 44, 22])\n",
    "llnew = partition(ll, 50)"
   ]
  },
  {
   "cell_type": "code",
   "execution_count": 13,
   "metadata": {},
   "outputs": [
    {
     "name": "stdout",
     "output_type": "stream",
     "text": [
      "44 -> 4 -> 7 -> 2 -> 43 -> 32 -> 21 -> 3 -> 22 -> 1 -> 55 -> 67 -> 92\n"
     ]
    }
   ],
   "source": [
    "print(llnew)"
   ]
  },
  {
   "cell_type": "code",
   "execution_count": 14,
   "metadata": {},
   "outputs": [
    {
     "name": "stdout",
     "output_type": "stream",
     "text": [
      "1 -> 55 -> 22 -> 3 -> 21 -> 32 -> 43 -> 2 -> 7 -> 4 -> 67 -> 92 -> 44 -> 22\n"
     ]
    }
   ],
   "source": [
    "print(ll)"
   ]
  },
  {
   "cell_type": "code",
   "execution_count": 15,
   "metadata": {},
   "outputs": [
    {
     "name": "stdout",
     "output_type": "stream",
     "text": [
      "4 -> 7 -> 2 -> 3 -> 1 -> 55 -> 22 -> 21 -> 32 -> 43 -> 67 -> 92 -> 44\n"
     ]
    }
   ],
   "source": [
    "print(partition(ll,20))"
   ]
  },
  {
   "cell_type": "code",
   "execution_count": 16,
   "metadata": {},
   "outputs": [],
   "source": [
    "def partition_v2(ll, x):\n",
    "    current = ll.tail = ll.head\n",
    "\n",
    "    while current:\n",
    "        nextNode = current.next\n",
    "        current.next = None\n",
    "        if current.value < x:\n",
    "            current.next = ll.head\n",
    "            ll.head = current\n",
    "        else:\n",
    "            ll.tail.next = current\n",
    "            ll.tail = current\n",
    "        current = nextNode\n",
    "        \n",
    "    # Error check in case all nodes are less than x\n",
    "    if ll.tail.next is not None:\n",
    "        ll.tail.next = None\n",
    "\n"
   ]
  },
  {
   "cell_type": "code",
   "execution_count": 17,
   "metadata": {},
   "outputs": [
    {
     "name": "stdout",
     "output_type": "stream",
     "text": [
      "1 -> 55 -> 22 -> 3 -> 21 -> 32 -> 43 -> 2 -> 7 -> 4 -> 67 -> 92 -> 44 -> 22\n",
      "1 -> 55 -> 22 -> 3 -> 21 -> 32 -> 43 -> 2 -> 7 -> 4 -> 67 -> 92 -> 44 -> 22\n"
     ]
    }
   ],
   "source": [
    "# ll = LinkedList()\n",
    "# ll.generate(10, 0, 99)\n",
    "print(ll)\n",
    "partition_v2(ll, ll.head.value)\n",
    "print(ll)"
   ]
  },
  {
   "cell_type": "code",
   "execution_count": 18,
   "metadata": {},
   "outputs": [
    {
     "name": "stdout",
     "output_type": "stream",
     "text": [
      "4 -> 7 -> 2 -> 3 -> 1 -> 55 -> 22 -> 21 -> 32 -> 43 -> 67 -> 92 -> 44\n"
     ]
    }
   ],
   "source": [
    "print(partition(ll,20))"
   ]
  },
  {
   "cell_type": "code",
   "execution_count": 19,
   "metadata": {},
   "outputs": [
    {
     "name": "stdout",
     "output_type": "stream",
     "text": [
      "4 -> 7 -> 2 -> 3 -> 1 -> 55 -> 22 -> 21 -> 32 -> 43 -> 67 -> 92 -> 44 -> 22\n"
     ]
    }
   ],
   "source": [
    "partition_v2(ll, 20)\n",
    "print(ll)"
   ]
  },
  {
   "cell_type": "markdown",
   "metadata": {},
   "source": [
    "Q5. Sum two numbers that are represented with linked lists with decimal digits\n",
    "in reverse order of magnitude."
   ]
  },
  {
   "cell_type": "code",
   "execution_count": 40,
   "metadata": {},
   "outputs": [],
   "source": [
    "def quotient_remainder(n):\n",
    "    q = n // 10\n",
    "    r = n % 10\n",
    "    return q,r\n",
    "\n",
    "def sum_list(ll1, ll2):\n",
    "    ll = LinkedList()\n",
    "    current1 = ll1.head\n",
    "    current2 = ll2.head\n",
    "    q, r = quotient_remainder(current1.value + current2.value)\n",
    "    \n",
    "    while current1.value or current2.value or q:\n",
    "\n",
    "        if current1.next and current2.next:\n",
    "            ll.add_multiple([r])\n",
    "            current1 = current1.next\n",
    "            current2 = current2.next\n",
    "            q, r = quotient_remainder(current1.value + current2.value + q)\n",
    "\n",
    "        else:\n",
    "            if current1.next:\n",
    "                ll.add_multiple([r])\n",
    "                current1 = current1.next\n",
    "                q, r = quotient_remainder(current1.value + q)\n",
    "            elif current2.next:\n",
    "                ll.add_multiple([r])\n",
    "                current2 = current2.next\n",
    "                q, r = quotient_remainder(current2.value + q)\n",
    "\n",
    "            else:\n",
    "                ll.add_multiple([r])\n",
    "                break\n",
    "    return ll"
   ]
  },
  {
   "cell_type": "code",
   "execution_count": 41,
   "metadata": {},
   "outputs": [
    {
     "name": "stdout",
     "output_type": "stream",
     "text": [
      "5 -> 3 -> 6 -> 1\n",
      "2 -> 9 -> 8\n",
      "7 -> 2 -> 5 -> 2\n"
     ]
    }
   ],
   "source": [
    "ll_a = LinkedList()\n",
    "ll_a.generate(4, 0, 9)\n",
    "ll_b = LinkedList()\n",
    "ll_b.generate(3, 0, 9)\n",
    "print(ll_a)\n",
    "print(ll_b)\n",
    "print(sum_list(ll_a, ll_b))"
   ]
  },
  {
   "cell_type": "code",
   "execution_count": null,
   "metadata": {},
   "outputs": [],
   "source": []
  },
  {
   "cell_type": "code",
   "execution_count": null,
   "metadata": {},
   "outputs": [],
   "source": []
  }
 ],
 "metadata": {
  "kernelspec": {
   "display_name": "Python 3",
   "language": "python",
   "name": "python3"
  },
  "language_info": {
   "codemirror_mode": {
    "name": "ipython",
    "version": 3
   },
   "file_extension": ".py",
   "mimetype": "text/x-python",
   "name": "python",
   "nbconvert_exporter": "python",
   "pygments_lexer": "ipython3",
   "version": "3.6.4"
  }
 },
 "nbformat": 4,
 "nbformat_minor": 2
}
